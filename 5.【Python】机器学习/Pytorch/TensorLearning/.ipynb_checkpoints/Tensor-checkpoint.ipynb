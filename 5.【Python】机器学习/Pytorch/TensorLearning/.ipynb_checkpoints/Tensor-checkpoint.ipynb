{
 "cells": [
  {
   "cell_type": "code",
   "execution_count": 1,
   "id": "boolean-pierce",
   "metadata": {},
   "outputs": [],
   "source": [
    "import torch"
   ]
  },
  {
   "cell_type": "markdown",
   "id": "fresh-spyware",
   "metadata": {},
   "source": [
    "#### (一) Tensor定义: torch.xxxx"
   ]
  },
  {
   "cell_type": "code",
   "execution_count": 9,
   "id": "experimental-pakistan",
   "metadata": {},
   "outputs": [
    {
     "name": "stdout",
     "output_type": "stream",
     "text": [
      "tensor([5, 5, 5], dtype=torch.int32)\n",
      "tensor([1., 1., 1.])\n",
      "tensor([1, 1, 1], dtype=torch.int8)\n",
      "tensor([1, 1, 1])\n",
      "tensor([1, 1, 1], dtype=torch.int16)\n"
     ]
    }
   ],
   "source": [
    "# 不同类型的Tensor定义，其中Tensor默认为FloatTensor()\n",
    "a = torch.IntTensor([5,5,5])\n",
    "b = torch.FloatTensor([1,1,1])\n",
    "c = torch.CharTensor([1,1,1])\n",
    "d = torch.LongTensor([1,1,1])\n",
    "e = torch.ShortTensor([1,1,1])\n",
    "\n",
    "# 输出\n",
    "for i, v in enumerate([a,b,c,d,e]):\n",
    "    print(v)"
   ]
  },
  {
   "cell_type": "code",
   "execution_count": 8,
   "id": "complex-actress",
   "metadata": {},
   "outputs": [
    {
     "name": "stdout",
     "output_type": "stream",
     "text": [
      "tensor([5, 5, 5], dtype=torch.int32)\n",
      "tensor([1., 1., 1.])\n",
      "tensor([1, 1, 1], dtype=torch.int8)\n",
      "tensor([1, 1, 1])\n",
      "tensor([1, 1, 1], dtype=torch.int16)\n"
     ]
    }
   ],
   "source": [
    "# 使用其他形式的数值对Tensor进行赋值\n",
    "# 使用数组\n",
    "# 使用列表\n",
    "# 使用元组\n",
    "# 使用XX"
   ]
  },
  {
   "cell_type": "markdown",
   "id": "desirable-croatia",
   "metadata": {},
   "source": [
    "#### （二）Tensor属性: 变量.xxx"
   ]
  },
  {
   "cell_type": "code",
   "execution_count": 10,
   "id": "spare-petite",
   "metadata": {},
   "outputs": [
    {
     "name": "stdout",
     "output_type": "stream",
     "text": [
      "0 属性: torch.Size([3])\n",
      "1 属性: torch.Size([3])\n",
      "2 属性: torch.Size([3])\n",
      "3 属性: torch.Size([3])\n",
      "4 属性: torch.Size([3])\n",
      "0 属性: torch.int32\n",
      "1 属性: torch.float32\n",
      "2 属性: torch.int8\n",
      "3 属性: torch.int64\n",
      "4 属性: torch.int16\n",
      "0 属性: cpu\n",
      "1 属性: cpu\n",
      "2 属性: cpu\n",
      "3 属性: cpu\n",
      "4 属性: cpu\n"
     ]
    }
   ],
   "source": [
    "# 属性shape\n",
    "for i, v in enumerate([a,b,c,d,e]):\n",
    "    print(i,'属性:',v.shape)\n",
    "\n",
    "# 属性dtype\n",
    "for i, v in enumerate([a,b,c,d,e]):\n",
    "    print(i,'属性:',v.dtype)\n",
    "\n",
    "# 属性device\n",
    "for i, v in enumerate([a,b,c,d,e]):\n",
    "    print(i,'属性:',v.device)"
   ]
  },
  {
   "cell_type": "markdown",
   "id": "urban-poison",
   "metadata": {},
   "source": [
    "#### （三）Tensor运算:torch.XXX"
   ]
  },
  {
   "cell_type": "code",
   "execution_count": 32,
   "id": "helpful-absorption",
   "metadata": {},
   "outputs": [
    {
     "data": {
      "text/plain": [
       "tensor([[ 1,  2,  3],\n",
       "        [ 4,  5,  6],\n",
       "        [ 7,  8,  9],\n",
       "        [10, 11, 12]], dtype=torch.int32)"
      ]
     },
     "execution_count": 32,
     "metadata": {},
     "output_type": "execute_result"
    }
   ],
   "source": [
    "import numpy as np\n",
    "T1 = torch.ones(5,5)\n",
    "T2 = torch.IntTensor(np.array(([1,2,3],[4,5,6],[7,8,9],[10,11,12])))\n",
    "print('原始矩阵\\n',T2)\n",
    "\n",
    "# 切片索引\n",
    "T2[:2,:2] = 999\n",
    "print('切片索引修改展示',T2)\n",
    "\n",
    "# 张量连接\n",
    "a = torch.zeros(5,5,)\n",
    "b = torch.ones(5,5,)\n",
    "T3 = torch.cat(a,b)\n",
    "print('张量连接',T3)\n",
    "\n",
    "# 张量倍增\n",
    "T4 = torch.mul(a,b)\n",
    "T5 = a * b\n",
    "print('torch.mul:',T4,'\\n,直接相乘:',T5)\n",
    "\n",
    "# 其他形式:使用_\n",
    "# 加数\n",
    "\n",
    "\n",
    "# 复制\n",
    "# 转职"
   ]
  },
  {
   "cell_type": "code",
   "execution_count": 33,
   "id": "dental-tumor",
   "metadata": {},
   "outputs": [
    {
     "data": {
      "text/plain": [
       "tensor([[ 0,  0,  3],\n",
       "        [ 0,  0,  6],\n",
       "        [ 7,  8,  9],\n",
       "        [10, 11, 12]], dtype=torch.int32)"
      ]
     },
     "execution_count": 33,
     "metadata": {},
     "output_type": "execute_result"
    }
   ],
   "source": []
  },
  {
   "cell_type": "code",
   "execution_count": null,
   "id": "portable-maximum",
   "metadata": {},
   "outputs": [],
   "source": []
  }
 ],
 "metadata": {
  "kernelspec": {
   "display_name": "Python 3",
   "language": "python",
   "name": "python3"
  },
  "language_info": {
   "codemirror_mode": {
    "name": "ipython",
    "version": 3
   },
   "file_extension": ".py",
   "mimetype": "text/x-python",
   "name": "python",
   "nbconvert_exporter": "python",
   "pygments_lexer": "ipython3",
   "version": "3.8.8"
  }
 },
 "nbformat": 4,
 "nbformat_minor": 5
}
