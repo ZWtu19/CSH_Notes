{
 "cells": [
  {
   "cell_type": "code",
   "execution_count": 43,
   "id": "wicked-parish",
   "metadata": {},
   "outputs": [],
   "source": [
    "import torch"
   ]
  },
  {
   "cell_type": "markdown",
   "id": "exterior-legislature",
   "metadata": {},
   "source": [
    "#### (一) Tensor定义: torch.xxxx"
   ]
  },
  {
   "cell_type": "code",
   "execution_count": 44,
   "id": "proof-premises",
   "metadata": {},
   "outputs": [
    {
     "name": "stdout",
     "output_type": "stream",
     "text": [
      "tensor([5, 5, 5], dtype=torch.int32)\n",
      "tensor([1., 1., 1.])\n",
      "tensor([1, 1, 1], dtype=torch.int8)\n",
      "tensor([1, 1, 1])\n",
      "tensor([1, 1, 1], dtype=torch.int16)\n"
     ]
    }
   ],
   "source": [
    "# 不同类型的Tensor定义，其中Tensor默认为FloatTensor()\n",
    "a = torch.IntTensor([5,5,5])\n",
    "b = torch.FloatTensor([1,1,1])\n",
    "c = torch.CharTensor([1,1,1])\n",
    "d = torch.LongTensor([1,1,1])\n",
    "e = torch.ShortTensor([1,1,1])\n",
    "\n",
    "# 输出\n",
    "for i, v in enumerate([a,b,c,d,e]):\n",
    "    print(v)"
   ]
  },
  {
   "cell_type": "code",
   "execution_count": 8,
   "id": "fallen-intake",
   "metadata": {},
   "outputs": [
    {
     "name": "stdout",
     "output_type": "stream",
     "text": [
      "tensor([5, 5, 5], dtype=torch.int32)\n",
      "tensor([1., 1., 1.])\n",
      "tensor([1, 1, 1], dtype=torch.int8)\n",
      "tensor([1, 1, 1])\n",
      "tensor([1, 1, 1], dtype=torch.int16)\n"
     ]
    }
   ],
   "source": [
    "# 使用其他形式的数值对Tensor进行赋值\n",
    "# 使用数组\n",
    "# 使用列表\n",
    "# 使用元组\n",
    "# 使用XX"
   ]
  },
  {
   "cell_type": "markdown",
   "id": "municipal-pierce",
   "metadata": {},
   "source": [
    "#### （二）Tensor属性: 变量.xxx"
   ]
  },
  {
   "cell_type": "code",
   "execution_count": 10,
   "id": "premium-gates",
   "metadata": {},
   "outputs": [
    {
     "name": "stdout",
     "output_type": "stream",
     "text": [
      "0 属性: torch.Size([3])\n",
      "1 属性: torch.Size([3])\n",
      "2 属性: torch.Size([3])\n",
      "3 属性: torch.Size([3])\n",
      "4 属性: torch.Size([3])\n",
      "0 属性: torch.int32\n",
      "1 属性: torch.float32\n",
      "2 属性: torch.int8\n",
      "3 属性: torch.int64\n",
      "4 属性: torch.int16\n",
      "0 属性: cpu\n",
      "1 属性: cpu\n",
      "2 属性: cpu\n",
      "3 属性: cpu\n",
      "4 属性: cpu\n"
     ]
    }
   ],
   "source": [
    "# 属性shape\n",
    "for i, v in enumerate([a,b,c,d,e]):\n",
    "    print(i,'属性:',v.shape)\n",
    "\n",
    "# 属性dtype\n",
    "for i, v in enumerate([a,b,c,d,e]):\n",
    "    print(i,'属性:',v.dtype)\n",
    "\n",
    "# 属性device\n",
    "for i, v in enumerate([a,b,c,d,e]):\n",
    "    print(i,'属性:',v.device)"
   ]
  },
  {
   "cell_type": "markdown",
   "id": "technological-spank",
   "metadata": {},
   "source": [
    "#### （三）Tensor运算:torch.XXX"
   ]
  },
  {
   "cell_type": "code",
   "execution_count": 42,
   "id": "casual-sponsorship",
   "metadata": {},
   "outputs": [
    {
     "name": "stdout",
     "output_type": "stream",
     "text": [
      "原始矩阵\n",
      " tensor([[ 1,  2,  3],\n",
      "        [ 4,  5,  6],\n",
      "        [ 7,  8,  9],\n",
      "        [10, 11, 12]], dtype=torch.int32)\n",
      "切片索引+999修改展示\n",
      " tensor([[999, 999,   3],\n",
      "        [999, 999,   6],\n",
      "        [  7,   8,   9],\n",
      "        [ 10,  11,  12]], dtype=torch.int32)\n",
      "张量连接\n",
      " tensor([[0., 0., 0., 0., 0., 1., 1., 1., 1., 1.],\n",
      "        [0., 0., 0., 0., 0., 1., 1., 1., 1., 1.],\n",
      "        [0., 0., 0., 0., 0., 1., 1., 1., 1., 1.],\n",
      "        [0., 0., 0., 0., 0., 1., 1., 1., 1., 1.],\n",
      "        [0., 0., 0., 0., 0., 1., 1., 1., 1., 1.]])\n",
      "torch.mul:\n",
      " tensor([[0., 0., 0., 0., 0.],\n",
      "        [0., 0., 0., 0., 0.],\n",
      "        [0., 0., 0., 0., 0.],\n",
      "        [0., 0., 0., 0., 0.],\n",
      "        [0., 0., 0., 0., 0.]]) \n",
      "直接相乘:\n",
      " tensor([[0., 0., 0., 0., 0.],\n",
      "        [0., 0., 0., 0., 0.],\n",
      "        [0., 0., 0., 0., 0.],\n",
      "        [0., 0., 0., 0., 0.],\n",
      "        [0., 0., 0., 0., 0.]])\n",
      "tensor([[1099, 1099,  103],\n",
      "        [1099, 1099,  106],\n",
      "        [ 107,  108,  109],\n",
      "        [ 110,  111,  112]], dtype=torch.int32)\n",
      "tensor([[1099, 1099,  103],\n",
      "        [1099, 1099,  106],\n",
      "        [ 107,  108,  109],\n",
      "        [ 110,  111,  112]], dtype=torch.int32)\n",
      "tensor([[1099, 1099,  107,  110],\n",
      "        [1099, 1099,  108,  111],\n",
      "        [ 103,  106,  109,  112]], dtype=torch.int32)\n"
     ]
    }
   ],
   "source": [
    "import numpy as np\n",
    "T1 = torch.ones(5,5)\n",
    "T2 = torch.IntTensor(np.array(([1,2,3],[4,5,6],[7,8,9],[10,11,12])))\n",
    "print('原始矩阵\\n',T2)\n",
    "\n",
    "# 切片索引\n",
    "T2[:2,:2] = 999\n",
    "print('切片索引+999修改展示\\n',T2)\n",
    "\n",
    "# 张量连接\n",
    "a = torch.zeros(5,5,)\n",
    "b = torch.ones(5,5,)\n",
    "T3 = torch.cat([a,b], dim=1)\n",
    "print('张量连接\\n',T3)\n",
    "\n",
    "# 张量倍增\n",
    "T4 = torch.mul(a,b)\n",
    "T5 = a * b\n",
    "print('torch.mul:\\n',T4,'\\n直接相乘:\\n',T5)\n",
    "\n",
    "# 其他形式:使用_\n",
    "# 加数: .add_()\n",
    "T6 = T2.add_(100)\n",
    "print(T6)\n",
    "# 复制: .copy_()\n",
    "T7 = T2.copy_(T2)\n",
    "print(T7)\n",
    "# 转职: .t_()\n",
    "T8 = T2.t_()\n",
    "print(T8)"
   ]
  }
 ],
 "metadata": {
  "kernelspec": {
   "display_name": "Python 3",
   "language": "python",
   "name": "python3"
  },
  "language_info": {
   "codemirror_mode": {
    "name": "ipython",
    "version": 3
   },
   "file_extension": ".py",
   "mimetype": "text/x-python",
   "name": "python",
   "nbconvert_exporter": "python",
   "pygments_lexer": "ipython3",
   "version": "3.8.8"
  }
 },
 "nbformat": 4,
 "nbformat_minor": 5
}
